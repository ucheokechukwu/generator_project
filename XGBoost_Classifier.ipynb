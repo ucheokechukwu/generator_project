{
 "cells": [
  {
   "cell_type": "code",
   "execution_count": 1,
   "metadata": {},
   "outputs": [
    {
     "name": "stderr",
     "output_type": "stream",
     "text": [
      "2024-02-25 07:59:48.126316: I tensorflow/core/platform/cpu_feature_guard.cc:182] This TensorFlow binary is optimized to use available CPU instructions in performance-critical operations.\n",
      "To enable the following instructions: AVX2 FMA, in other operations, rebuild TensorFlow with the appropriate compiler flags.\n"
     ]
    }
   ],
   "source": [
    "from rich import pretty, print, inspect\n",
    "from tqdm.auto import tqdm\n",
    "pretty.install()\n",
    "from data_generation import data_generation\n",
    "from model_builder import *"
   ]
  },
  {
   "cell_type": "code",
   "execution_count": 2,
   "metadata": {},
   "outputs": [
    {
     "data": {
      "text/html": [
       "<div>\n",
       "<style scoped>\n",
       "    .dataframe tbody tr th:only-of-type {\n",
       "        vertical-align: middle;\n",
       "    }\n",
       "\n",
       "    .dataframe tbody tr th {\n",
       "        vertical-align: top;\n",
       "    }\n",
       "\n",
       "    .dataframe thead th {\n",
       "        text-align: right;\n",
       "    }\n",
       "</style>\n",
       "<table border=\"1\" class=\"dataframe\">\n",
       "  <thead>\n",
       "    <tr style=\"text-align: right;\">\n",
       "      <th></th>\n",
       "      <th>Date</th>\n",
       "      <th>White Ball 0</th>\n",
       "      <th>White Ball 1</th>\n",
       "      <th>White Ball 2</th>\n",
       "      <th>White Ball 3</th>\n",
       "      <th>White Ball 4</th>\n",
       "      <th>White Ball 5</th>\n",
       "      <th>Grey Ball</th>\n",
       "      <th>Day</th>\n",
       "      <th>dayofweek</th>\n",
       "      <th>year</th>\n",
       "      <th>month</th>\n",
       "      <th>quarter</th>\n",
       "      <th>is_leap_year</th>\n",
       "      <th>weekofyear</th>\n",
       "    </tr>\n",
       "  </thead>\n",
       "  <tbody>\n",
       "    <tr>\n",
       "      <th>165</th>\n",
       "      <td>1985-09-11</td>\n",
       "      <td>4</td>\n",
       "      <td>9</td>\n",
       "      <td>14</td>\n",
       "      <td>15</td>\n",
       "      <td>44</td>\n",
       "      <td>45</td>\n",
       "      <td>32</td>\n",
       "      <td>1187</td>\n",
       "      <td>2</td>\n",
       "      <td>1985</td>\n",
       "      <td>9</td>\n",
       "      <td>3</td>\n",
       "      <td>0</td>\n",
       "      <td>37</td>\n",
       "    </tr>\n",
       "    <tr>\n",
       "      <th>164</th>\n",
       "      <td>1985-09-14</td>\n",
       "      <td>11</td>\n",
       "      <td>23</td>\n",
       "      <td>43</td>\n",
       "      <td>46</td>\n",
       "      <td>47</td>\n",
       "      <td>49</td>\n",
       "      <td>1</td>\n",
       "      <td>1190</td>\n",
       "      <td>5</td>\n",
       "      <td>1985</td>\n",
       "      <td>9</td>\n",
       "      <td>3</td>\n",
       "      <td>0</td>\n",
       "      <td>37</td>\n",
       "    </tr>\n",
       "    <tr>\n",
       "      <th>163</th>\n",
       "      <td>1985-09-18</td>\n",
       "      <td>8</td>\n",
       "      <td>12</td>\n",
       "      <td>19</td>\n",
       "      <td>33</td>\n",
       "      <td>41</td>\n",
       "      <td>45</td>\n",
       "      <td>24</td>\n",
       "      <td>1194</td>\n",
       "      <td>2</td>\n",
       "      <td>1985</td>\n",
       "      <td>9</td>\n",
       "      <td>3</td>\n",
       "      <td>0</td>\n",
       "      <td>38</td>\n",
       "    </tr>\n",
       "    <tr>\n",
       "      <th>162</th>\n",
       "      <td>1985-09-21</td>\n",
       "      <td>3</td>\n",
       "      <td>11</td>\n",
       "      <td>16</td>\n",
       "      <td>20</td>\n",
       "      <td>21</td>\n",
       "      <td>24</td>\n",
       "      <td>44</td>\n",
       "      <td>1197</td>\n",
       "      <td>5</td>\n",
       "      <td>1985</td>\n",
       "      <td>9</td>\n",
       "      <td>3</td>\n",
       "      <td>0</td>\n",
       "      <td>38</td>\n",
       "    </tr>\n",
       "    <tr>\n",
       "      <th>161</th>\n",
       "      <td>1985-09-25</td>\n",
       "      <td>5</td>\n",
       "      <td>9</td>\n",
       "      <td>12</td>\n",
       "      <td>33</td>\n",
       "      <td>45</td>\n",
       "      <td>47</td>\n",
       "      <td>32</td>\n",
       "      <td>1201</td>\n",
       "      <td>2</td>\n",
       "      <td>1985</td>\n",
       "      <td>9</td>\n",
       "      <td>3</td>\n",
       "      <td>0</td>\n",
       "      <td>39</td>\n",
       "    </tr>\n",
       "  </tbody>\n",
       "</table>\n",
       "</div>"
      ],
      "text/plain": [
       "          Date  White Ball 0  White Ball 1  White Ball 2  White Ball 3  \\\n",
       "165 1985-09-11             4             9            14            15   \n",
       "164 1985-09-14            11            23            43            46   \n",
       "163 1985-09-18             8            12            19            33   \n",
       "162 1985-09-21             3            11            16            20   \n",
       "161 1985-09-25             5             9            12            33   \n",
       "\n",
       "     White Ball 4  White Ball 5  Grey Ball   Day  dayofweek  year  month  \\\n",
       "165            44            45         32  1187          2  1985      9   \n",
       "164            47            49          1  1190          5  1985      9   \n",
       "163            41            45         24  1194          2  1985      9   \n",
       "162            21            24         44  1197          5  1985      9   \n",
       "161            45            47         32  1201          2  1985      9   \n",
       "\n",
       "     quarter  is_leap_year  weekofyear  \n",
       "165        3             0          37  \n",
       "164        3             0          37  \n",
       "163        3             0          38  \n",
       "162        3             0          38  \n",
       "161        3             0          39  "
      ]
     },
     "metadata": {},
     "output_type": "display_data"
    },
    {
     "data": {
      "text/html": [
       "<div>\n",
       "<style scoped>\n",
       "    .dataframe tbody tr th:only-of-type {\n",
       "        vertical-align: middle;\n",
       "    }\n",
       "\n",
       "    .dataframe tbody tr th {\n",
       "        vertical-align: top;\n",
       "    }\n",
       "\n",
       "    .dataframe thead th {\n",
       "        text-align: right;\n",
       "    }\n",
       "</style>\n",
       "<table border=\"1\" class=\"dataframe\">\n",
       "  <thead>\n",
       "    <tr style=\"text-align: right;\">\n",
       "      <th></th>\n",
       "      <th>Date</th>\n",
       "      <th>White Ball 0</th>\n",
       "      <th>White Ball 1</th>\n",
       "      <th>White Ball 2</th>\n",
       "      <th>White Ball 3</th>\n",
       "      <th>White Ball 4</th>\n",
       "      <th>White Ball 5</th>\n",
       "      <th>Grey Ball</th>\n",
       "      <th>Day</th>\n",
       "      <th>dayofweek</th>\n",
       "      <th>year</th>\n",
       "      <th>month</th>\n",
       "      <th>quarter</th>\n",
       "      <th>is_leap_year</th>\n",
       "      <th>weekofyear</th>\n",
       "    </tr>\n",
       "  </thead>\n",
       "  <tbody>\n",
       "    <tr>\n",
       "      <th>1207</th>\n",
       "      <td>1995-05-17</td>\n",
       "      <td>1</td>\n",
       "      <td>3</td>\n",
       "      <td>7</td>\n",
       "      <td>27</td>\n",
       "      <td>34</td>\n",
       "      <td>41</td>\n",
       "      <td>21</td>\n",
       "      <td>4722</td>\n",
       "      <td>2</td>\n",
       "      <td>1995</td>\n",
       "      <td>5</td>\n",
       "      <td>2</td>\n",
       "      <td>0</td>\n",
       "      <td>20</td>\n",
       "    </tr>\n",
       "    <tr>\n",
       "      <th>1206</th>\n",
       "      <td>1995-05-20</td>\n",
       "      <td>5</td>\n",
       "      <td>12</td>\n",
       "      <td>24</td>\n",
       "      <td>29</td>\n",
       "      <td>38</td>\n",
       "      <td>41</td>\n",
       "      <td>47</td>\n",
       "      <td>4725</td>\n",
       "      <td>5</td>\n",
       "      <td>1995</td>\n",
       "      <td>5</td>\n",
       "      <td>2</td>\n",
       "      <td>0</td>\n",
       "      <td>20</td>\n",
       "    </tr>\n",
       "    <tr>\n",
       "      <th>1205</th>\n",
       "      <td>1995-05-24</td>\n",
       "      <td>2</td>\n",
       "      <td>5</td>\n",
       "      <td>9</td>\n",
       "      <td>14</td>\n",
       "      <td>44</td>\n",
       "      <td>46</td>\n",
       "      <td>42</td>\n",
       "      <td>4729</td>\n",
       "      <td>2</td>\n",
       "      <td>1995</td>\n",
       "      <td>5</td>\n",
       "      <td>2</td>\n",
       "      <td>0</td>\n",
       "      <td>21</td>\n",
       "    </tr>\n",
       "    <tr>\n",
       "      <th>1204</th>\n",
       "      <td>1995-05-27</td>\n",
       "      <td>18</td>\n",
       "      <td>19</td>\n",
       "      <td>29</td>\n",
       "      <td>31</td>\n",
       "      <td>35</td>\n",
       "      <td>43</td>\n",
       "      <td>10</td>\n",
       "      <td>4732</td>\n",
       "      <td>5</td>\n",
       "      <td>1995</td>\n",
       "      <td>5</td>\n",
       "      <td>2</td>\n",
       "      <td>0</td>\n",
       "      <td>21</td>\n",
       "    </tr>\n",
       "    <tr>\n",
       "      <th>1203</th>\n",
       "      <td>1995-05-31</td>\n",
       "      <td>17</td>\n",
       "      <td>25</td>\n",
       "      <td>27</td>\n",
       "      <td>30</td>\n",
       "      <td>32</td>\n",
       "      <td>36</td>\n",
       "      <td>49</td>\n",
       "      <td>4736</td>\n",
       "      <td>2</td>\n",
       "      <td>1995</td>\n",
       "      <td>5</td>\n",
       "      <td>2</td>\n",
       "      <td>0</td>\n",
       "      <td>22</td>\n",
       "    </tr>\n",
       "  </tbody>\n",
       "</table>\n",
       "</div>"
      ],
      "text/plain": [
       "           Date  White Ball 0  White Ball 1  White Ball 2  White Ball 3  \\\n",
       "1207 1995-05-17             1             3             7            27   \n",
       "1206 1995-05-20             5            12            24            29   \n",
       "1205 1995-05-24             2             5             9            14   \n",
       "1204 1995-05-27            18            19            29            31   \n",
       "1203 1995-05-31            17            25            27            30   \n",
       "\n",
       "      White Ball 4  White Ball 5  Grey Ball   Day  dayofweek  year  month  \\\n",
       "1207            34            41         21  4722          2  1995      5   \n",
       "1206            38            41         47  4725          5  1995      5   \n",
       "1205            44            46         42  4729          2  1995      5   \n",
       "1204            35            43         10  4732          5  1995      5   \n",
       "1203            32            36         49  4736          2  1995      5   \n",
       "\n",
       "      quarter  is_leap_year  weekofyear  \n",
       "1207        2             0          20  \n",
       "1206        2             0          20  \n",
       "1205        2             0          21  \n",
       "1204        2             0          21  \n",
       "1203        2             0          22  "
      ]
     },
     "execution_count": 2,
     "metadata": {},
     "output_type": "execute_result"
    }
   ],
   "source": [
    "df, data = data_generation()\n",
    "display(df.head())\n",
    "df  = df[-3000:]\n",
    "df.head()"
   ]
  },
  {
   "cell_type": "code",
   "execution_count": 6,
   "metadata": {},
   "outputs": [
    {
     "data": {
      "text/html": [
       "<pre style=\"white-space:pre;overflow-x:auto;line-height:normal;font-family:Menlo,'DejaVu Sans Mono',consolas,'Courier New',monospace\">Shape of windows is: <span style=\"font-weight: bold\">(</span><span style=\"color: #008080; text-decoration-color: #008080; font-weight: bold\">2994</span>, <span style=\"color: #008080; text-decoration-color: #008080; font-weight: bold\">6</span>, <span style=\"color: #008080; text-decoration-color: #008080; font-weight: bold\">8</span><span style=\"font-weight: bold\">)</span>.\n",
       "</pre>\n"
      ],
      "text/plain": [
       "Shape of windows is: \u001b[1m(\u001b[0m\u001b[1;36m2994\u001b[0m, \u001b[1;36m6\u001b[0m, \u001b[1;36m8\u001b[0m\u001b[1m)\u001b[0m.\n"
      ]
     },
     "metadata": {},
     "output_type": "display_data"
    },
    {
     "data": {
      "text/html": [
       "<pre style=\"white-space:pre;overflow-x:auto;line-height:normal;font-family:Menlo,'DejaVu Sans Mono',consolas,'Courier New',monospace\">Shape of labels is: <span style=\"font-weight: bold\">(</span><span style=\"color: #008080; text-decoration-color: #008080; font-weight: bold\">2994</span>, <span style=\"color: #008080; text-decoration-color: #008080; font-weight: bold\">6</span><span style=\"font-weight: bold\">)</span>.\n",
       "</pre>\n"
      ],
      "text/plain": [
       "Shape of labels is: \u001b[1m(\u001b[0m\u001b[1;36m2994\u001b[0m, \u001b[1;36m6\u001b[0m\u001b[1m)\u001b[0m.\n"
      ]
     },
     "metadata": {},
     "output_type": "display_data"
    },
    {
     "data": {
      "text/plain": [
       "array([[4722,    1,    3,    7,   27,   34,   41,   21],\n",
       "       [4725,    5,   12,   24,   29,   38,   41,   47],\n",
       "       [4729,    2,    5,    9,   14,   44,   46,   42],\n",
       "       [4732,   18,   19,   29,   31,   35,   43,   10],\n",
       "       [4736,   17,   25,   27,   30,   32,   36,   49],\n",
       "       [4739,   19,   33,   34,   35,   40,   41,   12]])"
      ]
     },
     "metadata": {},
     "output_type": "display_data"
    },
    {
     "data": {
      "text/plain": [
       "array([13, 14, 28, 33, 34, 48])"
      ]
     },
     "metadata": {},
     "output_type": "display_data"
    },
    {
     "data": {
      "text/html": [
       "<pre style=\"white-space:pre;overflow-x:auto;line-height:normal;font-family:Menlo,'DejaVu Sans Mono',consolas,'Courier New',monospace\">Shape of windows is: <span style=\"font-weight: bold\">(</span><span style=\"color: #008080; text-decoration-color: #008080; font-weight: bold\">2994</span>, <span style=\"color: #008080; text-decoration-color: #008080; font-weight: bold\">6</span>, <span style=\"color: #008080; text-decoration-color: #008080; font-weight: bold\">8</span><span style=\"font-weight: bold\">)</span>.\n",
       "</pre>\n"
      ],
      "text/plain": [
       "Shape of windows is: \u001b[1m(\u001b[0m\u001b[1;36m2994\u001b[0m, \u001b[1;36m6\u001b[0m, \u001b[1;36m8\u001b[0m\u001b[1m)\u001b[0m.\n"
      ]
     },
     "metadata": {},
     "output_type": "display_data"
    },
    {
     "data": {
      "text/html": [
       "<pre style=\"white-space:pre;overflow-x:auto;line-height:normal;font-family:Menlo,'DejaVu Sans Mono',consolas,'Courier New',monospace\">Shape of labels is: <span style=\"font-weight: bold\">(</span><span style=\"color: #008080; text-decoration-color: #008080; font-weight: bold\">2994</span>, <span style=\"color: #008080; text-decoration-color: #008080; font-weight: bold\">6</span><span style=\"font-weight: bold\">)</span>.\n",
       "</pre>\n"
      ],
      "text/plain": [
       "Shape of labels is: \u001b[1m(\u001b[0m\u001b[1;36m2994\u001b[0m, \u001b[1;36m6\u001b[0m\u001b[1m)\u001b[0m.\n"
      ]
     },
     "metadata": {},
     "output_type": "display_data"
    },
    {
     "data": {
      "text/plain": [
       "array([[ 0,  1,  3,  7, 27, 34, 41, 21],\n",
       "       [ 3,  5, 12, 24, 29, 38, 41, 47],\n",
       "       [ 7,  2,  5,  9, 14, 44, 46, 42],\n",
       "       [10, 18, 19, 29, 31, 35, 43, 10],\n",
       "       [14, 17, 25, 27, 30, 32, 36, 49],\n",
       "       [17, 19, 33, 34, 35, 40, 41, 12]])"
      ]
     },
     "metadata": {},
     "output_type": "display_data"
    },
    {
     "data": {
      "text/plain": [
       "array([13, 14, 28, 33, 34, 48])"
      ]
     },
     "metadata": {},
     "output_type": "display_data"
    }
   ],
   "source": [
    "windows, labels = transform_data(data)\n",
    "print(f\"Shape of windows is: {windows.shape}.\")\n",
    "print(f\"Shape of labels is: {labels.shape}.\")\n",
    "display(windows[0], labels[0])\n",
    "\n",
    "cols_to_keep = [\n",
    "    'Day',\n",
    "    'White Ball 0', 'White Ball 1', 'White Ball 2', 'White Ball 3',\n",
    "       'White Ball 4', 'White Ball 5', 'Grey Ball',]\n",
    "\n",
    "df = df.sort_values('Day')\n",
    "df['Day'] = df['Day'] - df.Day.min()\n",
    "\n",
    "data = df[cols_to_keep]\n",
    "windows, labels = transform_data(data)\n",
    "print(f\"Shape of windows is: {windows.shape}.\")\n",
    "print(f\"Shape of labels is: {labels.shape}.\")\n",
    "display(windows[0], labels[0])"
   ]
  },
  {
   "cell_type": "code",
   "execution_count": 8,
   "metadata": {},
   "outputs": [
    {
     "data": {
      "application/vnd.jupyter.widget-view+json": {
       "model_id": "2b8378f4ab474a3cb74874096b1e6757",
       "version_major": 2,
       "version_minor": 0
      },
      "text/plain": [
       "  0%|          | 0/5 [00:00<?, ?it/s]"
      ]
     },
     "metadata": {},
     "output_type": "display_data"
    },
    {
     "data": {
      "text/html": [
       "<pre style=\"white-space:pre;overflow-x:auto;line-height:normal;font-family:Menlo,'DejaVu Sans Mono',consolas,'Courier New',monospace\">Overall Accuracy for Horizon <span style=\"color: #008080; text-decoration-color: #008080; font-weight: bold\">6</span> is <span style=\"color: #008080; text-decoration-color: #008080; font-weight: bold\">0.06010</span>\n",
       "</pre>\n"
      ],
      "text/plain": [
       "Overall Accuracy for Horizon \u001b[1;36m6\u001b[0m is \u001b[1;36m0.06010\u001b[0m\n"
      ]
     },
     "metadata": {},
     "output_type": "display_data"
    },
    {
     "data": {
      "text/html": [
       "<pre style=\"white-space:pre;overflow-x:auto;line-height:normal;font-family:Menlo,'DejaVu Sans Mono',consolas,'Courier New',monospace\">===================================================================\n",
       "\n",
       "\n",
       "\n",
       "</pre>\n"
      ],
      "text/plain": [
       "===================================================================\n",
       "\n",
       "\n",
       "\n"
      ]
     },
     "metadata": {},
     "output_type": "display_data"
    },
    {
     "data": {
      "text/html": [
       "<pre style=\"white-space:pre;overflow-x:auto;line-height:normal;font-family:Menlo,'DejaVu Sans Mono',consolas,'Courier New',monospace\">Overall Accuracy for Horizon <span style=\"color: #008080; text-decoration-color: #008080; font-weight: bold\">9</span> is <span style=\"color: #008080; text-decoration-color: #008080; font-weight: bold\">0.06066</span>\n",
       "</pre>\n"
      ],
      "text/plain": [
       "Overall Accuracy for Horizon \u001b[1;36m9\u001b[0m is \u001b[1;36m0.06066\u001b[0m\n"
      ]
     },
     "metadata": {},
     "output_type": "display_data"
    },
    {
     "data": {
      "text/html": [
       "<pre style=\"white-space:pre;overflow-x:auto;line-height:normal;font-family:Menlo,'DejaVu Sans Mono',consolas,'Courier New',monospace\">===================================================================\n",
       "\n",
       "\n",
       "\n",
       "</pre>\n"
      ],
      "text/plain": [
       "===================================================================\n",
       "\n",
       "\n",
       "\n"
      ]
     },
     "metadata": {},
     "output_type": "display_data"
    },
    {
     "data": {
      "text/html": [
       "<pre style=\"white-space:pre;overflow-x:auto;line-height:normal;font-family:Menlo,'DejaVu Sans Mono',consolas,'Courier New',monospace\">Overall Accuracy for Horizon <span style=\"color: #008080; text-decoration-color: #008080; font-weight: bold\">12</span> is <span style=\"color: #008080; text-decoration-color: #008080; font-weight: bold\">0.06355</span>\n",
       "</pre>\n"
      ],
      "text/plain": [
       "Overall Accuracy for Horizon \u001b[1;36m12\u001b[0m is \u001b[1;36m0.06355\u001b[0m\n"
      ]
     },
     "metadata": {},
     "output_type": "display_data"
    },
    {
     "data": {
      "text/html": [
       "<pre style=\"white-space:pre;overflow-x:auto;line-height:normal;font-family:Menlo,'DejaVu Sans Mono',consolas,'Courier New',monospace\">===================================================================\n",
       "\n",
       "\n",
       "\n",
       "</pre>\n"
      ],
      "text/plain": [
       "===================================================================\n",
       "\n",
       "\n",
       "\n"
      ]
     },
     "metadata": {},
     "output_type": "display_data"
    },
    {
     "data": {
      "text/html": [
       "<pre style=\"white-space:pre;overflow-x:auto;line-height:normal;font-family:Menlo,'DejaVu Sans Mono',consolas,'Courier New',monospace\">Overall Accuracy for Horizon <span style=\"color: #008080; text-decoration-color: #008080; font-weight: bold\">15</span> is <span style=\"color: #008080; text-decoration-color: #008080; font-weight: bold\">0.05891</span>\n",
       "</pre>\n"
      ],
      "text/plain": [
       "Overall Accuracy for Horizon \u001b[1;36m15\u001b[0m is \u001b[1;36m0.05891\u001b[0m\n"
      ]
     },
     "metadata": {},
     "output_type": "display_data"
    },
    {
     "data": {
      "text/html": [
       "<pre style=\"white-space:pre;overflow-x:auto;line-height:normal;font-family:Menlo,'DejaVu Sans Mono',consolas,'Courier New',monospace\">===================================================================\n",
       "\n",
       "\n",
       "\n",
       "</pre>\n"
      ],
      "text/plain": [
       "===================================================================\n",
       "\n",
       "\n",
       "\n"
      ]
     },
     "metadata": {},
     "output_type": "display_data"
    },
    {
     "data": {
      "text/html": [
       "<pre style=\"white-space:pre;overflow-x:auto;line-height:normal;font-family:Menlo,'DejaVu Sans Mono',consolas,'Courier New',monospace\">Overall Accuracy for Horizon <span style=\"color: #008080; text-decoration-color: #008080; font-weight: bold\">18</span> is <span style=\"color: #008080; text-decoration-color: #008080; font-weight: bold\">0.06896</span>\n",
       "</pre>\n"
      ],
      "text/plain": [
       "Overall Accuracy for Horizon \u001b[1;36m18\u001b[0m is \u001b[1;36m0.06896\u001b[0m\n"
      ]
     },
     "metadata": {},
     "output_type": "display_data"
    },
    {
     "data": {
      "text/html": [
       "<pre style=\"white-space:pre;overflow-x:auto;line-height:normal;font-family:Menlo,'DejaVu Sans Mono',consolas,'Courier New',monospace\">===================================================================\n",
       "\n",
       "\n",
       "\n",
       "</pre>\n"
      ],
      "text/plain": [
       "===================================================================\n",
       "\n",
       "\n",
       "\n"
      ]
     },
     "metadata": {},
     "output_type": "display_data"
    }
   ],
   "source": [
    "import numpy as np\n",
    "import xgboost as xgb\n",
    "from sklearn.model_selection import train_test_split\n",
    "from sklearn.metrics import accuracy_score\n",
    "\n",
    "results = dict(Horizon=[], Accuracy=[])\n",
    "\n",
    "\n",
    "for horizon in tqdm(range(6, 20, 3)):\n",
    "    X, y = transform_data(data, horizon=horizon)\n",
    "    X = X.reshape(-1, X.shape[1] * 8)\n",
    "\n",
    "\n",
    "    # Split the target variable into multiple target variables (assuming y has shape (4004, 6))\n",
    "    # You may need to adjust this based on your specific dataset\n",
    "    y1, y2, y3, y4, y5, y6 = y[:, 0], y[:, 1], y[:, 2], y[:, 3], y[:, 4], y[:, 5]\n",
    "\n",
    "    # Split the dataset into training and testing sets\n",
    "    X_train, X_test, y1_train, y1_test, y2_train, y2_test, y3_train, y3_test, y4_train, y4_test, y5_train, y5_test, y6_train, y6_test = train_test_split(\n",
    "        X, y1, y2, y3, y4, y5, y6, test_size=0.2, random_state=42, shuffle=False)\n",
    "\n",
    "    # label encode the dataset\n",
    "\n",
    "    from sklearn.preprocessing import LabelEncoder\n",
    "\n",
    "\n",
    "    # Define and train multiple XGBoost models\n",
    "    models = []\n",
    "    les = []\n",
    "    for y_train, y_test in [\n",
    "        (y1_train, y1_test), (y2_train, y2_test), (y3_train, y3_test), (y4_train, y4_test), (y5_train, y5_test), (y6_train, y6_test)\n",
    "        ]:\n",
    "        le = LabelEncoder()\n",
    "        y_train = le.fit_transform(y_train)\n",
    "    \n",
    "        model = xgb.XGBClassifier(\n",
    "            objective='multi:softmax', \n",
    "            booster='gbtree', \n",
    "            n_estimators=100, \n",
    "            max_depth=None, \n",
    "            learning_rate=0.1, \n",
    "            random_state=42)\n",
    "        model.fit(X_train, y_train)\n",
    "        models.append(model)\n",
    "        les.append(le)\n",
    "\n",
    "\n",
    "    # evaluation\n",
    "    y_pred = np.array([le.inverse_transform(model.predict(X_test)) for model, le in zip(models, les)])\n",
    "    eval = []\n",
    "    for i, y_test in enumerate([y1_test, y2_test, y3_test, y4_test, y5_test, y6_test]):\n",
    "        accuracy = accuracy_score(y_test, y_pred[i])\n",
    "        # print(f\"Accuracy: {accuracy}\")\n",
    "        eval.append(accuracy)\n",
    "    print(f\"Overall Accuracy for Horizon {horizon} is {sum(eval)/len(eval):.5f}\")\n",
    "    print(\"===================================================================\\n\\n\\n\")\n",
    "\n",
    "    results['Horizon'].append(horizon)\n",
    "    results['Accuracy'].append(sum(eval)/len(eval))\n"
   ]
  },
  {
   "cell_type": "code",
   "execution_count": 9,
   "metadata": {},
   "outputs": [
    {
     "ename": "NameError",
     "evalue": "name 'make_clf' is not defined",
     "output_type": "error",
     "traceback": [
      "\u001b[0;31m---------------------------------------------------------------------------\u001b[0m",
      "\u001b[0;31mNameError\u001b[0m                                 Traceback (most recent call last)",
      "Cell \u001b[0;32mIn[9], line 1\u001b[0m\n\u001b[0;32m----> 1\u001b[0m \u001b[43mmake_clf\u001b[49m()\u001b[38;5;241m.\u001b[39msummary()\n",
      "\u001b[0;31mNameError\u001b[0m: name 'make_clf' is not defined"
     ]
    }
   ],
   "source": []
  },
  {
   "cell_type": "code",
   "execution_count": null,
   "metadata": {},
   "outputs": [],
   "source": []
  }
 ],
 "metadata": {
  "kernelspec": {
   "display_name": "lhl_env",
   "language": "python",
   "name": "python3"
  },
  "language_info": {
   "codemirror_mode": {
    "name": "ipython",
    "version": 3
   },
   "file_extension": ".py",
   "mimetype": "text/x-python",
   "name": "python",
   "nbconvert_exporter": "python",
   "pygments_lexer": "ipython3",
   "version": "3.8.16"
  }
 },
 "nbformat": 4,
 "nbformat_minor": 2
}
